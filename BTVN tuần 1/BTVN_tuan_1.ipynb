{
  "nbformat": 4,
  "nbformat_minor": 0,
  "metadata": {
    "colab": {
      "provenance": [],
      "toc_visible": true
    },
    "kernelspec": {
      "name": "python3",
      "display_name": "Python 3"
    },
    "language_info": {
      "name": "python"
    }
  },
  "cells": [
    {
      "cell_type": "markdown",
      "source": [
        "# Câu 1"
      ],
      "metadata": {
        "id": "YYvyf9dlyWBV"
      }
    },
    {
      "cell_type": "markdown",
      "source": [
        "- Python là ngôn ngữ lập trình thông dụng, được sử dụng phổ biến, rộng rãi trong việc tạo ra các phần mềm, ứng dụng,...Sau đây là một số ứng dụng phổ biến của Python:\n"
      ],
      "metadata": {
        "id": "jMe3KqjqyyR2"
      }
    },
    {
      "cell_type": "markdown",
      "source": [
        "+ Phát triển ứng dụng web: bằng cách sử dụng framework và CMS được tích hợp trong Python như: Django, Flask, Pyramid, Plone, Django CMS,..\n"
      ],
      "metadata": {
        "id": "8BYkd81i0GMS"
      }
    },
    {
      "cell_type": "markdown",
      "source": [
        "+ Khoa học dữ liệu và học máy: được sử dụng trong việc vận dụng dữ liệu, phân tích và triển khai những algorithm phức tạp, với các thư viện được phụ trợ như: numpy, pandas, matplotlib, seaborn,..."
      ],
      "metadata": {
        "id": "vyZYoI692G15"
      }
    },
    {
      "cell_type": "markdown",
      "source": [
        "+ Phát triển game: sử dụng framework nhu: unity, pygame, pykyra,..."
      ],
      "metadata": {
        "id": "3MTCtOew23eE"
      }
    },
    {
      "cell_type": "markdown",
      "source": [
        "+ Trí tuệ nhân tạo và học máy: một số package Python tốt nhất cho AI và ML như: pandas, seaborn, tensorFlow, scikit-learning,..."
      ],
      "metadata": {
        "id": "A740Ihj23shV"
      }
    },
    {
      "cell_type": "markdown",
      "source": [
        "+ Số liệu ứng dụng: Python có bộ sưu tập thư viện được thiết kế để phân tích thống kê và phân tích số liệu như: scipy, ipython, pandas, numpy,..."
      ],
      "metadata": {
        "id": "Gll-zuoo4xQ9"
      }
    },
    {
      "cell_type": "markdown",
      "source": [
        "+ Ngoài ra còn rất nhiều thư viên khác để ứng dụng cho nhiều mục đích khác"
      ],
      "metadata": {
        "id": "AxjeRksA5eRb"
      }
    },
    {
      "cell_type": "markdown",
      "source": [
        "# Câu 2"
      ],
      "metadata": {
        "id": "18fSgc_Z5tVI"
      }
    },
    {
      "cell_type": "markdown",
      "source": [
        "1. C++ là ngôn ngữ có hiệu suất cao, còn Python có hiệu suất chậm hơn"
      ],
      "metadata": {
        "id": "_hUHmkjy5wbO"
      }
    },
    {
      "cell_type": "markdown",
      "source": [
        "2. C++ có thể tốn nhiều thời gian để học, còn Python có thể được học nhanh hơn và dễ dàng hơn đối với những người mới bắt đầu"
      ],
      "metadata": {
        "id": "xb0osAb-72fz"
      }
    },
    {
      "cell_type": "markdown",
      "source": [
        "3. C++ là ngôn ngữ viết mã được biên dịch trước khi chạy, trong khi Python là ngôn ngữ được thông dịch khi thực thi mã"
      ],
      "metadata": {
        "id": "-K5waP-x7-VQ"
      }
    },
    {
      "cell_type": "markdown",
      "source": [
        "4. C++ thường được sử dụng cho các ứng dụng nhúng hoặc doanh nghiệp, còn Python được áp dụng phổ biến nhất ở machine learning"
      ],
      "metadata": {
        "id": "pajxdHd18LCR"
      }
    },
    {
      "cell_type": "markdown",
      "source": [
        "5. C++ giới hạn về loại dữ liệu của tham số hoặc kết quả trả về, còn Python không có hạn chế nào về kiểu dữ liệu của tham số hoặc kết quả trả về"
      ],
      "metadata": {
        "id": "KoEsePOe837m"
      }
    },
    {
      "cell_type": "markdown",
      "source": [
        "6. C++ yêu cầu lập trình viên quản lý bộ nhớ một cách chủ động, vì nó không có bộ thu gom rác nào, còn Python việc quản lý bộ nhớ được thực hiện một cách tự động bởi một trình thu thập rác"
      ],
      "metadata": {
        "id": "ddCqDNqO9Bxw"
      }
    },
    {
      "cell_type": "markdown",
      "source": [
        "7. C++ có cộng đồng tập trung chủ yếu vào các phát triển ứng dụng máy tính, trò chơi, còn Python có cộng đồng rộng lớn và đa dạng, có trên mọi lĩnh vực"
      ],
      "metadata": {
        "id": "YqMy9nGI-E0v"
      }
    },
    {
      "cell_type": "markdown",
      "source": [
        "8. C++ phải chỉ định loại dữ liệu cho mỗi biến muốn tạo ra, còn Python thì biến có thể chứa bất kỳ loại dữ liệu nào mà không cần khai báo trước"
      ],
      "metadata": {
        "id": "ueOtFmOJ-7RE"
      }
    },
    {
      "cell_type": "markdown",
      "source": [
        "# Câu 3"
      ],
      "metadata": {
        "id": "bNI74LJQ_kr6"
      }
    },
    {
      "cell_type": "markdown",
      "source": [
        "Python là một ngôn ngữ thông dịch, vì mã nguồn Python không được biên dịch thành mã máy trực tiếp mà được thông dịch lúc thực thi chương trình, ngôn ngữ này trực tiếp chạy từng dòng mã, nếu có lỗi trong mã chương trình thì nó sẽ ngừng chạy"
      ],
      "metadata": {
        "id": "EBg0tEaf_m44"
      }
    },
    {
      "cell_type": "markdown",
      "source": [
        "# Câu 5"
      ],
      "metadata": {
        "id": "lx-6ttxFAlOn"
      }
    },
    {
      "cell_type": "markdown",
      "source": [
        "## 1. Cách khai báo biến"
      ],
      "metadata": {
        "id": "7_-o-ij1AnMr"
      }
    },
    {
      "cell_type": "markdown",
      "source": [
        "+ Được thực hiện bằng cách gán giá trị cho biến"
      ],
      "metadata": {
        "id": "HcTI_RPoAw7v"
      }
    },
    {
      "cell_type": "code",
      "source": [
        "a = 1\n",
        "print(a)\n",
        "b = \"Hello\"\n",
        "print(b)"
      ],
      "metadata": {
        "colab": {
          "base_uri": "https://localhost:8080/"
        },
        "id": "r7_W_eWUAwfv",
        "outputId": "fa55a7db-7317-4db3-b795-833d42bae49f"
      },
      "execution_count": null,
      "outputs": [
        {
          "output_type": "stream",
          "name": "stdout",
          "text": [
            "1\n",
            "Hello\n"
          ]
        }
      ]
    },
    {
      "cell_type": "markdown",
      "source": [
        "## 2. Các toán tử"
      ],
      "metadata": {
        "id": "kFHQ0Yk4BR1A"
      }
    },
    {
      "cell_type": "markdown",
      "source": [
        "### 2.1. Toán tử số học"
      ],
      "metadata": {
        "id": "7yzw4qhRTTw6"
      }
    },
    {
      "cell_type": "code",
      "source": [
        "x = 3\n",
        "y = 2\n",
        "#Cộng\n",
        "print(x + y)\n",
        "#Trừ\n",
        "print(x - y)\n",
        "#Nhân\n",
        "print(x * y)\n",
        "#Chia\n",
        "print(x / y)\n",
        "#Chia lấy phần dư\n",
        "print(x % y)\n",
        "#Mũ\n",
        "print(x ** y)\n",
        "#Chia lấy phần nguyên\n",
        "print(x // y)"
      ],
      "metadata": {
        "colab": {
          "base_uri": "https://localhost:8080/"
        },
        "id": "yuRVKMAmTZoE",
        "outputId": "e5540fd2-50d2-4579-920c-9d924b211c87"
      },
      "execution_count": null,
      "outputs": [
        {
          "output_type": "stream",
          "name": "stdout",
          "text": [
            "5\n",
            "1\n",
            "6\n",
            "1.5\n",
            "1\n",
            "9\n",
            "1\n"
          ]
        }
      ]
    },
    {
      "cell_type": "markdown",
      "source": [
        "### 2.2. Toán tử so sánh"
      ],
      "metadata": {
        "id": "96ufM0GTWOcY"
      }
    },
    {
      "cell_type": "markdown",
      "source": [
        "+ So sánh x và y nếu đúng trả về True, sai thì Flase"
      ],
      "metadata": {
        "id": "7TUNrQN7WXHm"
      }
    },
    {
      "cell_type": "code",
      "source": [
        "x = 5\n",
        "y = 3\n",
        "#Lớn hơn\n",
        "print(x > y)\n",
        "#Bé hơn\n",
        "print(x < y)\n",
        "#Bằng\n",
        "print(x == y)\n",
        "#Khác\n",
        "print(x != y)\n",
        "#Lớn hơn hoặc bằng\n",
        "print(x >= y)\n",
        "#Bé hơn hoặc bằng\n",
        "print(x <= y)"
      ],
      "metadata": {
        "colab": {
          "base_uri": "https://localhost:8080/"
        },
        "id": "uZJznUs_WTOq",
        "outputId": "61fa8b56-f15b-4a36-c046-a587644586ae"
      },
      "execution_count": null,
      "outputs": [
        {
          "output_type": "stream",
          "name": "stdout",
          "text": [
            "True\n",
            "False\n",
            "False\n",
            "True\n",
            "True\n",
            "False\n"
          ]
        }
      ]
    },
    {
      "cell_type": "markdown",
      "source": [
        "### 2.3. Toán tử logic"
      ],
      "metadata": {
        "id": "u7x6lSkuW7Yp"
      }
    },
    {
      "cell_type": "code",
      "source": [
        "x = True\n",
        "y = False\n",
        "#and (Trả về True nếu tất cả các toán hạng là True)\n",
        "print(x and y)\n",
        "#or (Trả về True nếu ít nhất 1 toán hạng là True)\n",
        "print(x or y)\n",
        "#not (Phủ định:True => Flase, Flase => True)\n",
        "print(not x)\n",
        "print(not y)"
      ],
      "metadata": {
        "colab": {
          "base_uri": "https://localhost:8080/"
        },
        "id": "BlDhIcYXXBLJ",
        "outputId": "45b0da99-08f7-4ef1-df02-35c83270721f"
      },
      "execution_count": null,
      "outputs": [
        {
          "output_type": "stream",
          "name": "stdout",
          "text": [
            "False\n",
            "True\n",
            "False\n",
            "True\n"
          ]
        }
      ]
    },
    {
      "cell_type": "markdown",
      "source": [
        "### 2.4. Toán tử gán"
      ],
      "metadata": {
        "id": "TzUKSyTvXsbj"
      }
    },
    {
      "cell_type": "code",
      "source": [
        "# =\n",
        "x = 2\n",
        "print(x)\n",
        "# +=\n",
        "x += 2\n",
        "print(x)\n",
        "# -=\n",
        "x -= 2\n",
        "print(x)\n",
        "# *=\n",
        "x *= 2\n",
        "print(x)\n",
        "# /=\n",
        "x /= 2\n",
        "print(x)\n",
        "# /=\n",
        "x %= 2\n",
        "print(x)\n",
        "# //=\n",
        "x //= 2\n",
        "print(x)\n",
        "# **=\n",
        "x **= 2\n",
        "print(x)"
      ],
      "metadata": {
        "colab": {
          "base_uri": "https://localhost:8080/"
        },
        "id": "CcjYp-J-X00I",
        "outputId": "e5d2eb5e-0754-4af7-a237-8e59033fef70"
      },
      "execution_count": null,
      "outputs": [
        {
          "output_type": "stream",
          "name": "stdout",
          "text": [
            "2\n",
            "4\n",
            "2\n",
            "4\n",
            "2.0\n",
            "0.0\n",
            "0.0\n",
            "0.0\n"
          ]
        }
      ]
    },
    {
      "cell_type": "markdown",
      "source": [
        "### 2.5. Toán tử xác thực"
      ],
      "metadata": {
        "id": "ZG7Ofih5ZKky"
      }
    },
    {
      "cell_type": "code",
      "source": [
        "x = 5\n",
        "y = 3\n",
        "# is (Trả về True nếu x và y giống nhau)\n",
        "print(x is y)\n",
        "# is not (Trả về True nếu x khác y)\n",
        "print(x is not y)"
      ],
      "metadata": {
        "colab": {
          "base_uri": "https://localhost:8080/"
        },
        "id": "tgH9hb45ZNk_",
        "outputId": "3df45332-6471-4347-d5fa-f221d8f1c417"
      },
      "execution_count": null,
      "outputs": [
        {
          "output_type": "stream",
          "name": "stdout",
          "text": [
            "False\n",
            "True\n"
          ]
        }
      ]
    },
    {
      "cell_type": "markdown",
      "source": [
        "### 2.6. Toán tử khai thác"
      ],
      "metadata": {
        "id": "FJSxjJYZZfPZ"
      }
    },
    {
      "cell_type": "code",
      "source": [
        "x = 5\n",
        "y = [1,2,3,4,5]\n",
        "# in (Trả về True nếu x có trong y)\n",
        "print(x in y)\n",
        "# not in (Trả về True nếu x không có trong y)\n",
        "print(x not in y)"
      ],
      "metadata": {
        "colab": {
          "base_uri": "https://localhost:8080/"
        },
        "id": "ONzlI7NeZesN",
        "outputId": "1ca0c1b6-3b85-4637-d014-cb94a1cc3c35"
      },
      "execution_count": null,
      "outputs": [
        {
          "output_type": "stream",
          "name": "stdout",
          "text": [
            "True\n",
            "False\n"
          ]
        }
      ]
    },
    {
      "cell_type": "markdown",
      "source": [
        "### 2.7. Toán tử thao tác bitwise"
      ],
      "metadata": {
        "id": "ztLz_IZ3aa4t"
      }
    },
    {
      "cell_type": "markdown",
      "source": [
        "+ Quy đổi các giá trị thông thường sang dạng dữ liệu hệ nhị phân chỉ chứa 0 và 1 và so sánh"
      ],
      "metadata": {
        "id": "CoHKM8HTajTb"
      }
    },
    {
      "cell_type": "code",
      "source": [
        "x = 10\n",
        "y = 12\n",
        "# & (AND)\n",
        "print(x & y)\n",
        "# | (OR)\n",
        "print(x | y)\n",
        "# ^ (NOT)\n",
        "print(x ^ y)\n",
        "# ~ (XOR)\n",
        "print(~x)\n",
        "# << (Phép toán dịch bit trái)\n",
        "n = 1\n",
        "print(x << n) #(dịch bit trái 1 bit)\n",
        "# >> (Phép toán dịch bit phải)\n",
        "print(x >> n) #(dịch bit phải 1 bit)"
      ],
      "metadata": {
        "colab": {
          "base_uri": "https://localhost:8080/"
        },
        "id": "VvciF8PJaamz",
        "outputId": "bcb5bc60-9d9e-40ac-c4ae-d0c7a667ba04"
      },
      "execution_count": null,
      "outputs": [
        {
          "output_type": "stream",
          "name": "stdout",
          "text": [
            "8\n",
            "14\n",
            "6\n",
            "-11\n",
            "20\n",
            "5\n"
          ]
        }
      ]
    },
    {
      "cell_type": "markdown",
      "source": [
        "## 3. Các kiểu dữ liệu"
      ],
      "metadata": {
        "id": "yfI2HxFbcB7W"
      }
    },
    {
      "cell_type": "markdown",
      "source": [
        "### 3.1. Kiểu dữ liệu số"
      ],
      "metadata": {
        "id": "O57I3ETxhx6x"
      }
    },
    {
      "cell_type": "code",
      "source": [
        "# int (Số nguyên)\n",
        "x = 1\n",
        "print(x)\n",
        "print(type(x))\n",
        "\n",
        "# float (Số thực)\n",
        "y = 1.0\n",
        "print(y)\n",
        "print(type(y))\n",
        "\n",
        "# complex (Số phức)\n",
        "z = 1 + 2j\n",
        "print(z)\n",
        "print(type(z))"
      ],
      "metadata": {
        "id": "F3gd8Paag2HP",
        "colab": {
          "base_uri": "https://localhost:8080/"
        },
        "outputId": "98df28d2-c991-453c-fb9b-5f02fdcff1d3"
      },
      "execution_count": 12,
      "outputs": [
        {
          "output_type": "stream",
          "name": "stdout",
          "text": [
            "1\n",
            "<class 'int'>\n",
            "1.0\n",
            "<class 'float'>\n",
            "(1+2j)\n",
            "<class 'complex'>\n"
          ]
        }
      ]
    },
    {
      "cell_type": "markdown",
      "source": [
        "### 3.2. Boolean"
      ],
      "metadata": {
        "id": "h3iHLMeGh1g3"
      }
    },
    {
      "cell_type": "markdown",
      "source": [
        "+  Kiểu dữ liệu có chỉ có thể nhận một trong hai giá trị như: true/false,\n",
        " yes/no, 1/0"
      ],
      "metadata": {
        "id": "urWHtZVwi_0v"
      }
    },
    {
      "cell_type": "code",
      "source": [
        "x = True\n",
        "y = False\n",
        "z = 5 > 3\n",
        "print(x)\n",
        "print(y)\n",
        "print(z)"
      ],
      "metadata": {
        "id": "xVqCdDJJjKRf",
        "colab": {
          "base_uri": "https://localhost:8080/"
        },
        "outputId": "788386a1-499b-4e01-c07f-775228324513"
      },
      "execution_count": 13,
      "outputs": [
        {
          "output_type": "stream",
          "name": "stdout",
          "text": [
            "True\n",
            "False\n",
            "True\n"
          ]
        }
      ]
    },
    {
      "cell_type": "markdown",
      "source": [
        "### 3.3. String"
      ],
      "metadata": {
        "id": "V9HX94c1kgPs"
      }
    },
    {
      "cell_type": "code",
      "source": [
        "s = \"hello\\n\"\n",
        "\n",
        "#Nhân chuỗi\n",
        "s_2 = s * 2\n",
        "print(s)\n",
        "\n",
        "#Viết hoa chữ đầu của chuỗi : dùng str.capitalize()\n",
        "s = \"hôm nay trời đẹp quá!\"\n",
        "s = str.capitalize(s)\n",
        "print(s)\n",
        "\n",
        "#Viết hoa toàn bộ của chuỗi : dùng .upper()\n",
        "s = s.upper()\n",
        "print(s)\n",
        "\n",
        "#Viết thường toàn bộ của chuỗi : dùng .lower()\n",
        "s = s.lower()\n",
        "print(s)\n",
        "\n",
        "#Tìm và đếm số lượng chuỗi con\n",
        "s = \"Lập trình python là xu hướng hiện nay. Bạn nên học python\"\n",
        "print(s.find(\"python\")) #nếu k tìm ra sẽ trả về -1\n",
        "print(s.count(\"python\"))\n",
        "\n",
        "#Hàm thay thế\n",
        "s = \"Lập trình python là xu hướng hiện nay. Bạn nên học python\"\n",
        "s = s.replace(\"python\", \"PYTHON\")\n",
        "print(s)\n",
        "\n",
        "#Cắt chuỗi thành 1 LIST\n",
        "list1 = s.split(\" \")\n",
        "print(list1)\n",
        "\n",
        "#Lấy ra chuỗi con\n",
        "print(s[0:10])\n",
        "\n",
        "#Xoá chuỗi dùng del\n",
        "del s"
      ],
      "metadata": {
        "id": "a9lc22p-kxUl",
        "colab": {
          "base_uri": "https://localhost:8080/"
        },
        "outputId": "efe9fc0d-d10c-4447-c8f8-c2e45c8169fe"
      },
      "execution_count": 14,
      "outputs": [
        {
          "output_type": "stream",
          "name": "stdout",
          "text": [
            "hello\n",
            "\n",
            "Hôm nay trời đẹp quá!\n",
            "HÔM NAY TRỜI ĐẸP QUÁ!\n",
            "hôm nay trời đẹp quá!\n",
            "10\n",
            "2\n",
            "Lập trình PYTHON là xu hướng hiện nay. Bạn nên học PYTHON\n",
            "['Lập', 'trình', 'PYTHON', 'là', 'xu', 'hướng', 'hiện', 'nay.', 'Bạn', 'nên', 'học', 'PYTHON']\n",
            "Lập trình \n"
          ]
        }
      ]
    },
    {
      "cell_type": "markdown",
      "source": [
        "### 3.4. List"
      ],
      "metadata": {
        "id": "nvweKjfJmHVU"
      }
    },
    {
      "cell_type": "code",
      "source": [
        "#Tạo list rỗng\n",
        "emtylist = []\n",
        "\n",
        "#Tạo ra 1 đối tượng list\n",
        "emtylist1 = list()\n",
        "\n",
        "print(emtylist)\n",
        "print(emtylist1)\n",
        "\n",
        " #Tạo ra list có dữ liệu\n",
        "colors = [\"red\", \"green\", \"orange\"]\n",
        "print(colors)\n",
        "\n",
        "#Tạo list có thứ tự, ví trí các phần tử được đánh dấu từ 0, từ trái sang phải\n",
        "studentlist = [\"An\",\"Bình\", \"Ngân\", \"Vy\",\"Ngọc\"]\n",
        "print(studentlist[2])\n",
        "\n",
        "#Muốn lấy tất cả sinh viên ra\n",
        "print(studentlist)\n",
        "print(studentlist[:])  #dấu : có nghĩa là lấy tất cả\n",
        "\n",
        "#studenlist[x:y] => lấy ra phần tử bắt đầu từ x và bé hơn y\n",
        "print(studentlist[1:2])\n",
        "print(studentlist[0:2])\n",
        "print(studentlist[1:4])\n",
        "\n",
        "#Thêm phần tử vào cuối list\n",
        "studentlist.append(\"Thiên\")  #Hàm .append có sẵn trong python là hàm thêm vào cuối trong ds\n",
        "print(studentlist)\n",
        "\n",
        "#Lấy ra 1 cái list xong chèn vào cuối\n",
        "#ví dụ lấy list [\"Thành\"] xong chèn vào cuối\n",
        "studentlist[len(studentlist):] = [\"Thành\"] #len() là lấy ra độ dài\n",
        "print(studentlist)\n",
        "\n",
        "#Chèn phần tử vào vị trí x\n",
        "studentlist.insert(2,\"Ngọc\") #Hàm .insert là hàm chèn phần tử vào vị trí x: .insert(x, \"\")\n",
        "print(studentlist)\n",
        "\n",
        "#Số lượng phần tử có trong list : sử dung len() vt tắt của từ length: độ dài\n",
        "print(len(studentlist))\n",
        "\n",
        "#Đếm số lượng phần tử TM điều kiện : dùng .count(\"\")\n",
        "print(\"Đếm Ngọc:\", studentlist.count(\"Ngọc\"))\n",
        "print(\"Đếm An:\", studentlist.count(\"An\"))\n",
        "\n",
        "#Xoá phần tử ra khỏi list bằng từ : dùng .remove(\"\")  khi phần tử cần xoá k có sẽ báo lỗi\n",
        "studentlist.remove(\"Ngân\")\n",
        "print(studentlist)\n",
        "\n",
        "#Kiểm tra phần tử có trong list k :dùng in\n",
        "if \"Ngọc\" in studentlist:\n",
        "    studentlist.remove(\"Ngọc\")\n",
        "    print(studentlist)\n",
        "\n",
        "#Xoá phần tử ra khỏi list bằng vị trí :dùng .pop()\n",
        "studentlist.pop(0)\n",
        "print(studentlist)\n",
        "\n",
        "#Đảo ngược list :dùng .reverse()\n",
        "studentlist.reverse()\n",
        "print(studentlist)\n",
        "\n",
        "#Sắp xếp lại list :dùng .sort() là sắp xếp theo thứ tự a b c..\n",
        "studentlist.sort()\n",
        "print(studentlist)\n",
        "\n",
        "number = [7,5,1,9,0,5,7]\n",
        "number.sort()\n",
        "print(number)\n",
        "\n",
        "#Sắp xếp ngược\n",
        "studentlist.sort(reverse = True)\n",
        "print(studentlist)\n",
        "\n",
        "number.sort(reverse = True)\n",
        "print(number)\n",
        "\n",
        "#Xoá hết dữ liệu trong list :dùng .clear()\n",
        "studentlist.clear()\n",
        "print(studentlist)\n",
        "\n",
        "#List comprehension lồng nhau\n",
        "f = [i for i in range(10)]\n",
        "print(f)\n",
        "f = [i for i in range(10) if i % 2 == 0]\n",
        "print(f)"
      ],
      "metadata": {
        "id": "Hhm9NpWjmLvo",
        "colab": {
          "base_uri": "https://localhost:8080/"
        },
        "outputId": "1f5b7dca-b6bd-44e1-a736-fbb70c43fec7"
      },
      "execution_count": 15,
      "outputs": [
        {
          "output_type": "stream",
          "name": "stdout",
          "text": [
            "[]\n",
            "[]\n",
            "['red', 'green', 'orange']\n",
            "Ngân\n",
            "['An', 'Bình', 'Ngân', 'Vy', 'Ngọc']\n",
            "['An', 'Bình', 'Ngân', 'Vy', 'Ngọc']\n",
            "['Bình']\n",
            "['An', 'Bình']\n",
            "['Bình', 'Ngân', 'Vy']\n",
            "['An', 'Bình', 'Ngân', 'Vy', 'Ngọc', 'Thiên']\n",
            "['An', 'Bình', 'Ngân', 'Vy', 'Ngọc', 'Thiên', 'Thành']\n",
            "['An', 'Bình', 'Ngọc', 'Ngân', 'Vy', 'Ngọc', 'Thiên', 'Thành']\n",
            "8\n",
            "Đếm Ngọc: 2\n",
            "Đếm An: 1\n",
            "['An', 'Bình', 'Ngọc', 'Vy', 'Ngọc', 'Thiên', 'Thành']\n",
            "['An', 'Bình', 'Vy', 'Ngọc', 'Thiên', 'Thành']\n",
            "['Bình', 'Vy', 'Ngọc', 'Thiên', 'Thành']\n",
            "['Thành', 'Thiên', 'Ngọc', 'Vy', 'Bình']\n",
            "['Bình', 'Ngọc', 'Thiên', 'Thành', 'Vy']\n",
            "[0, 1, 5, 5, 7, 7, 9]\n",
            "['Vy', 'Thành', 'Thiên', 'Ngọc', 'Bình']\n",
            "[9, 7, 7, 5, 5, 1, 0]\n",
            "[]\n",
            "[0, 1, 2, 3, 4, 5, 6, 7, 8, 9]\n",
            "[0, 2, 4, 6, 8]\n"
          ]
        }
      ]
    },
    {
      "cell_type": "markdown",
      "source": [
        "### 3.5. Tuple"
      ],
      "metadata": {
        "id": "LgIkxqX-mmPV"
      }
    },
    {
      "cell_type": "code",
      "source": [
        "#Tuple gần giống list nhưng dùng () và tuple chứa n hằng số và k thể thay đổi giá trị của nó\n",
        "gioitinh = (\"Nam\", \"Nữ\")\n",
        "lophoc = (1,2,3,4,5,6,7,8,9,10,11,12)\n",
        "traicay = (\"Táo\", \"Chuối\", \"Táo\", \"Cam\", \"Mận\", \"Dưa hấu\")\n",
        "\n",
        "print(gioitinh[0])\n",
        "print(traicay[0:2])\n",
        "#lưu ý giá trị của phần tử của tuple k thể thay đổi\n",
        "#lophoc[0] = 13 sẽ báo lỗi vì tuple cố định k thể thay đổi các giá trị bên trong nó\n",
        "\n",
        "for x in traicay:\n",
        "    print(x)\n",
        "\n",
        "#Cộng 2 tuple\n",
        "y = (1,2,3) + (4,5,6)\n",
        "print(y)\n",
        "\n",
        "#Nhân 2 tuple\n",
        "y = (1,2,3)*2\n",
        "print(y)\n",
        "\n",
        "#Kiểm tra phần tử có tồn tại trong tuple k\n",
        "print(\"Táo\" in traicay)\n",
        "\n",
        "#Lấy ra số lượng phần tử của tuple bằng hàm len()\n",
        "x = len(traicay)\n",
        "print(x)\n",
        "\n",
        "#Đếm số lần xuất hiện của 1 giá trị dùng .count()\n",
        "print(traicay.count(\"Táo\"))\n",
        "\n",
        "#Tìm min, max và tính sum\n",
        "print(min(gioitinh))\n",
        "print(max(traicay))\n",
        "print(sum(lophoc))\n",
        "\n",
        "#Sắp xếp tuple và chuyển thành list\n",
        "listTC = sorted(traicay)\n",
        "print(listTC)"
      ],
      "metadata": {
        "id": "zLF6XCI_m8vw",
        "colab": {
          "base_uri": "https://localhost:8080/"
        },
        "outputId": "5305d7dd-4429-4e47-dabb-93c8c11d201a"
      },
      "execution_count": 16,
      "outputs": [
        {
          "output_type": "stream",
          "name": "stdout",
          "text": [
            "Nam\n",
            "('Táo', 'Chuối')\n",
            "Táo\n",
            "Chuối\n",
            "Táo\n",
            "Cam\n",
            "Mận\n",
            "Dưa hấu\n",
            "(1, 2, 3, 4, 5, 6)\n",
            "(1, 2, 3, 1, 2, 3)\n",
            "True\n",
            "6\n",
            "2\n",
            "Nam\n",
            "Táo\n",
            "78\n",
            "['Cam', 'Chuối', 'Dưa hấu', 'Mận', 'Táo', 'Táo']\n"
          ]
        }
      ]
    },
    {
      "cell_type": "markdown",
      "source": [
        "### 3.6. Set"
      ],
      "metadata": {
        "id": "gt-i7LO-oDBY"
      }
    },
    {
      "cell_type": "code",
      "source": [
        "'''\n",
        "Set là tập hợp k có thứ tự, giá trị k đc trùng nhau, k thể thay đổi giá trị\n",
        "Các mục set k thể thay đổi nhưng có thể thêm các mục ms và xoá các mục\n",
        "Sử dụng cặp ngoặc {}\n",
        "'''\n",
        "\n",
        "monhoc = {\"Toán\", \"Lý\", \"Hoá\"}\n",
        "print(monhoc)\n",
        "\n",
        "#Duyệt phần tử trong set\n",
        "for x in monhoc:\n",
        "    print(x)\n",
        "\n",
        "#Thêm phần tử vào trong set sử dụng .add()\n",
        "monhoc.add(\"Lịch sử\")\n",
        "print(monhoc)\n",
        "\n",
        "#Thêm nhiều phần tử dùng .update()\n",
        "hocthem = {\"Anh văn\", \"Đàn\"}\n",
        "monhoc.update(hocthem)\n",
        "print(monhoc)\n",
        "\n",
        "#Thêm list vào set\n",
        "hocphudao = [\"Võ\", \"Múa\", \"Võ\"]\n",
        "print(hocphudao)\n",
        "\n",
        "monhoc.update(hocphudao)\n",
        "print(monhoc)\n",
        "#Vì trong set k đc trùng kết quả nên trong môn học chỉ có 1 võ\n",
        "\n",
        "#Xoá phần tử trong set dùng .remove(\"\")\n",
        "monhoc.remove(\"Võ\") #Có phần tử thì xoá k có phần tử thì báo lỗi\n",
        "print(monhoc)\n",
        "\n",
        "#Xoá phần tử trong set dùng .discard(\"\")\n",
        "monhoc.discard(\"Toán\") #Có phần tử thì sẽ xoá k có thì bỏ qua k báo lỗi\n",
        "print(monhoc)\n",
        "\n",
        "#Xoá phần tử đầu tiên trong set dùng .pop()\n",
        "monhoc.pop()\n",
        "print(monhoc)\n",
        "\n",
        "#Xoá hết phần tử trong set dùng .clear()\n",
        "monhoc.clear()\n",
        "print(monhoc)\n",
        "\n",
        "#Xoá đi biến môn học dùng del\n",
        "del monhoc\n",
        "print(monhoc) #báo lỗi vì bị xoá k tồn tại nên print ra k có thì báo lỗi"
      ],
      "metadata": {
        "id": "p0vvFB0UoFlp",
        "colab": {
          "base_uri": "https://localhost:8080/",
          "height": 419
        },
        "outputId": "3a2ff822-7939-488f-e589-74891ea32602"
      },
      "execution_count": 17,
      "outputs": [
        {
          "output_type": "stream",
          "name": "stdout",
          "text": [
            "{'Hoá', 'Toán', 'Lý'}\n",
            "Hoá\n",
            "Toán\n",
            "Lý\n",
            "{'Lịch sử', 'Hoá', 'Toán', 'Lý'}\n",
            "{'Anh văn', 'Hoá', 'Lịch sử', 'Toán', 'Đàn', 'Lý'}\n",
            "['Võ', 'Múa', 'Võ']\n",
            "{'Anh văn', 'Hoá', 'Múa', 'Võ', 'Lịch sử', 'Toán', 'Đàn', 'Lý'}\n",
            "{'Anh văn', 'Hoá', 'Múa', 'Lịch sử', 'Toán', 'Đàn', 'Lý'}\n",
            "{'Anh văn', 'Hoá', 'Múa', 'Lịch sử', 'Đàn', 'Lý'}\n",
            "{'Hoá', 'Múa', 'Lịch sử', 'Đàn', 'Lý'}\n",
            "set()\n"
          ]
        },
        {
          "output_type": "error",
          "ename": "NameError",
          "evalue": "ignored",
          "traceback": [
            "\u001b[0;31m---------------------------------------------------------------------------\u001b[0m",
            "\u001b[0;31mNameError\u001b[0m                                 Traceback (most recent call last)",
            "\u001b[0;32m<ipython-input-17-4c0b2a99469e>\u001b[0m in \u001b[0;36m<cell line: 49>\u001b[0;34m()\u001b[0m\n\u001b[1;32m     47\u001b[0m \u001b[0;31m#Xoá đi biến môn học dùng del\u001b[0m\u001b[0;34m\u001b[0m\u001b[0;34m\u001b[0m\u001b[0m\n\u001b[1;32m     48\u001b[0m \u001b[0;32mdel\u001b[0m \u001b[0mmonhoc\u001b[0m\u001b[0;34m\u001b[0m\u001b[0;34m\u001b[0m\u001b[0m\n\u001b[0;32m---> 49\u001b[0;31m \u001b[0mprint\u001b[0m\u001b[0;34m(\u001b[0m\u001b[0mmonhoc\u001b[0m\u001b[0;34m)\u001b[0m \u001b[0;31m#báo lỗi vì bị xoá k tồn tại nên print ra k có thì báo lỗi\u001b[0m\u001b[0;34m\u001b[0m\u001b[0;34m\u001b[0m\u001b[0m\n\u001b[0m",
            "\u001b[0;31mNameError\u001b[0m: name 'monhoc' is not defined"
          ]
        }
      ]
    },
    {
      "cell_type": "markdown",
      "source": [
        "### 3.7. Dictionary"
      ],
      "metadata": {
        "id": "jOrKmX9ro1Cw"
      }
    },
    {
      "cell_type": "code",
      "source": [
        "\"\"\"\n",
        "Từ điển đc sử dụng để lưu trữ các giá trị dữ liệu trong cặp key:value\n",
        "Từ điển là 1 tập hợp được sắp xếp theo thứ tự giá trị, có thể thay đổi và k cho phép trùng lặp\n",
        "Từ điển vt = dấu {}\n",
        "Từ điển có thể thay đổi, có thể thêm or bớt các mục sau khi từ điển đã đc tạo\n",
        "Từ điển k thể có 2 mục giống nhau trong 1 khoá\n",
        "\"\"\"\n",
        "\n",
        "sinhvien = {\n",
        "    \"hovaten\" : \"Nguyen Van A\", #n cặp key và value ngăn cách nhau bằng dấu ,\n",
        "    \"malop\" : \"KTPM01\",\n",
        "    \"DiemTB\" : 8.5\n",
        "}\n",
        "print(sinhvien)\n",
        "print(sinhvien[\"hovaten\"])\n",
        "\n",
        "#Sử dụng get() để lấy giá trị\n",
        "print(sinhvien.get(\"malop\"))\n",
        "\n",
        "#Cập nhật giá trị\n",
        "sinhvien[\"malop\"] = \"KTPM02\"\n",
        "print(sinhvien)\n",
        "sinhvien.update({\"malop\" : \"KTPM03\", \"DiemTB\" : 8.6})\n",
        "print(sinhvien)\n",
        "\n",
        "#Thêm cặp key:value\n",
        "sinhvien[\"namhoc\"] = 2025\n",
        "print(sinhvien)\n",
        "sinhvien.update({\"noisinh\" : \"Hà Nội\"})\n",
        "print(sinhvien)\n",
        "\n",
        "#Xoá cặp key:value\n",
        "sinhvien.pop(\"noisinh\")\n",
        "print(sinhvien)\n",
        "sinhvien.popitem() #.popitem() Xoá mục cuối cùng\n",
        "print(sinhvien)\n",
        "\n",
        "del sinhvien[\"hovaten\"]\n",
        "print(sinhvien)\n",
        "\n",
        "#Phương thức clear() làm trống từ điển\n",
        "print(sinhvien)\n",
        "sinhvien.clear()\n",
        "print(sinhvien)\n",
        "\n",
        "sinhvien = {\n",
        "    \"hovaten\" : \"Nguyen Van A\",\n",
        "    \"malop\" : \"KTPM01\",\n",
        "    \"DiemTB\" : 8.5\n",
        "}\n",
        "#In tất cả các tên khoá trong từ điển\n",
        "for x in sinhvien:\n",
        "    print(x)\n",
        "\n",
        "#Duyệt các giá trị\n",
        "for x in sinhvien.values():\n",
        "    print(x)\n",
        "#Duyệt các khoá\n",
        "for x in sinhvien.keys():\n",
        "    print(x)\n",
        "#Duyệt các cặp khoá - giá trị\n",
        "for x,y in sinhvien.items():\n",
        "    print(x,y)"
      ],
      "metadata": {
        "id": "ZM2WlAJio4gx",
        "colab": {
          "base_uri": "https://localhost:8080/"
        },
        "outputId": "4c665633-f7f7-4780-fd8f-0f0682a5ce75"
      },
      "execution_count": 18,
      "outputs": [
        {
          "output_type": "stream",
          "name": "stdout",
          "text": [
            "{'hovaten': 'Nguyen Van A', 'malop': 'KTPM01', 'DiemTB': 8.5}\n",
            "Nguyen Van A\n",
            "KTPM01\n",
            "{'hovaten': 'Nguyen Van A', 'malop': 'KTPM02', 'DiemTB': 8.5}\n",
            "{'hovaten': 'Nguyen Van A', 'malop': 'KTPM03', 'DiemTB': 8.6}\n",
            "{'hovaten': 'Nguyen Van A', 'malop': 'KTPM03', 'DiemTB': 8.6, 'namhoc': 2025}\n",
            "{'hovaten': 'Nguyen Van A', 'malop': 'KTPM03', 'DiemTB': 8.6, 'namhoc': 2025, 'noisinh': 'Hà Nội'}\n",
            "{'hovaten': 'Nguyen Van A', 'malop': 'KTPM03', 'DiemTB': 8.6, 'namhoc': 2025}\n",
            "{'hovaten': 'Nguyen Van A', 'malop': 'KTPM03', 'DiemTB': 8.6}\n",
            "{'malop': 'KTPM03', 'DiemTB': 8.6}\n",
            "{'malop': 'KTPM03', 'DiemTB': 8.6}\n",
            "{}\n",
            "hovaten\n",
            "malop\n",
            "DiemTB\n",
            "Nguyen Van A\n",
            "KTPM01\n",
            "8.5\n",
            "hovaten\n",
            "malop\n",
            "DiemTB\n",
            "hovaten Nguyen Van A\n",
            "malop KTPM01\n",
            "DiemTB 8.5\n"
          ]
        }
      ]
    }
  ]
}